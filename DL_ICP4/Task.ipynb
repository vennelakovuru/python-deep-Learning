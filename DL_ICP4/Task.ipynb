{
  "nbformat": 4,
  "nbformat_minor": 0,
  "metadata": {
    "colab": {
      "name": "Task.ipynb",
      "provenance": [],
      "collapsed_sections": []
    },
    "kernelspec": {
      "name": "python3",
      "display_name": "Python 3"
    },
    "language_info": {
      "name": "python"
    }
  },
  "cells": [
    {
      "cell_type": "code",
      "metadata": {
        "id": "miykILZcY9cD"
      },
      "source": [
        "import numpy\n",
        "import pandas\n",
        "\n",
        "import matplotlib.pyplot as plt\n",
        "\n",
        "import keras\n",
        "from keras.datasets import cifar10\n",
        "from keras.models import Sequential\n",
        "from keras.layers import Dense\n",
        "from keras.layers import Dropout\n",
        "from keras.layers import Flatten\n",
        "from keras.constraints import maxnorm\n",
        "from keras.optimizers import SGD\n",
        "from keras.layers.convolutional import Conv2D\n",
        "from keras.layers.convolutional import MaxPooling2D\n",
        "from keras.utils import np_utils\n"
      ],
      "execution_count": 26,
      "outputs": []
    },
    {
      "cell_type": "code",
      "metadata": {
        "id": "-dt7Rtb9cEHt"
      },
      "source": [
        "seed = 7\n",
        "numpy.random.seed(seed)\n",
        "# loading data\n",
        "(X_train, y_train), (X_test, y_test) = cifar10.load_data()\n"
      ],
      "execution_count": null,
      "outputs": []
    },
    {
      "cell_type": "code",
      "metadata": {
        "colab": {
          "base_uri": "https://localhost:8080/"
        },
        "id": "v3tev-oscfWn",
        "outputId": "7331e210-f02a-4c8e-8a97-e98263d06439"
      },
      "source": [
        "# normalizing inputs\n",
        "X_train = X_train.astype('float32')\n",
        "X_test = X_test.astype('float32')\n",
        "X_train = X_train / 255.0\n",
        "X_test = X_test / 255.0\n",
        "# one hot encoding\n",
        "y_train = np_utils.to_categorical(y_train)\n",
        "y_test = np_utils.to_categorical(y_test)\n",
        "classes = y_test.shape[1]\n",
        "classes\n"
      ],
      "execution_count": null,
      "outputs": [
        {
          "output_type": "execute_result",
          "data": {
            "text/plain": [
              "10"
            ]
          },
          "metadata": {
            "tags": []
          },
          "execution_count": 21
        }
      ]
    },
    {
      "cell_type": "code",
      "metadata": {
        "id": "J0Z6f0H0ctTz"
      },
      "source": [
        "# Creating the model using Sequential Neural Network\n",
        "model = Sequential() \n",
        "#Convolutional input layer, 32 feature maps with a size of 3×3 and a rectifier activation function\n",
        "model.add(Conv2D(32, (3, 3), input_shape=(32, 32, 3), padding='same', activation='relu', kernel_constraint=maxnorm(3))) \n",
        "#Dropout layer at 20%\n",
        "model.add(Dropout(0.2)) \n",
        "#Convolutional layer, 32 feature maps with a size of 3×3 and a rectifier activation function\n",
        "model.add(Conv2D(32, (3, 3), activation='relu', padding='same', kernel_constraint=maxnorm(3))) \n",
        "#Max Pool layer with size 2×2\n",
        "model.add(MaxPooling2D(pool_size=(2, 2))) \n",
        "#Flatten layer\n",
        "model.add(Flatten()) \n",
        "#Fully connected layer with 512 units and a rectifier activation function\n",
        "model.add(Dense(512, activation='relu', kernel_constraint=maxnorm(3)))\n",
        "#Dropout layer at 50%\n",
        "model.add(Dropout(0.5)) \n",
        "#Fully connected output layer with 10 units and a Softmax activation function\n",
        "model.add(Dense(classes, activation='softmax')) \n"
      ],
      "execution_count": null,
      "outputs": []
    },
    {
      "cell_type": "code",
      "metadata": {
        "colab": {
          "base_uri": "https://localhost:8080/"
        },
        "id": "OpbCPuhacyJw",
        "outputId": "67e91315-3f9d-4675-f191-e03c904e0e10"
      },
      "source": [
        "# Compiling the model\n",
        "epochs = 3\n",
        "lrate = 0.01\n",
        "decay = lrate/epochs\n",
        "sgd = SGD(lr=lrate, momentum=0.9, decay=decay, nesterov=False)\n",
        "model.compile(loss='categorical_crossentropy', optimizer=sgd, metrics=['accuracy']) #Compiling the Model\n",
        "print(model.summary())\n"
      ],
      "execution_count": null,
      "outputs": [
        {
          "output_type": "stream",
          "text": [
            "Model: \"sequential_3\"\n",
            "_________________________________________________________________\n",
            "Layer (type)                 Output Shape              Param #   \n",
            "=================================================================\n",
            "conv2d_6 (Conv2D)            (None, 32, 32, 32)        896       \n",
            "_________________________________________________________________\n",
            "dropout_6 (Dropout)          (None, 32, 32, 32)        0         \n",
            "_________________________________________________________________\n",
            "conv2d_7 (Conv2D)            (None, 32, 32, 32)        9248      \n",
            "_________________________________________________________________\n",
            "max_pooling2d_3 (MaxPooling2 (None, 16, 16, 32)        0         \n",
            "_________________________________________________________________\n",
            "flatten_3 (Flatten)          (None, 8192)              0         \n",
            "_________________________________________________________________\n",
            "dense_5 (Dense)              (None, 512)               4194816   \n",
            "_________________________________________________________________\n",
            "dropout_7 (Dropout)          (None, 512)               0         \n",
            "_________________________________________________________________\n",
            "dense_6 (Dense)              (None, 10)                5130      \n",
            "=================================================================\n",
            "Total params: 4,210,090\n",
            "Trainable params: 4,210,090\n",
            "Non-trainable params: 0\n",
            "_________________________________________________________________\n",
            "None\n"
          ],
          "name": "stdout"
        }
      ]
    },
    {
      "cell_type": "code",
      "metadata": {
        "colab": {
          "base_uri": "https://localhost:8080/"
        },
        "id": "ypCL5lO1c3of",
        "outputId": "043383e5-d707-4ea0-fca5-0da1a230e348"
      },
      "source": [
        "# Fitting the model\n",
        "history=model.fit(X_train, y_train, validation_data=(X_test, y_test), epochs=epochs, batch_size=32)\n"
      ],
      "execution_count": 25,
      "outputs": [
        {
          "output_type": "stream",
          "text": [
            "Epoch 1/3\n",
            "1563/1563 [==============================] - 250s 160ms/step - loss: 1.8872 - accuracy: 0.3144 - val_loss: 1.4510 - val_accuracy: 0.4902\n",
            "Epoch 2/3\n",
            "1563/1563 [==============================] - 244s 156ms/step - loss: 1.4490 - accuracy: 0.4785 - val_loss: 1.3335 - val_accuracy: 0.5251\n",
            "Epoch 3/3\n",
            "1563/1563 [==============================] - 255s 163ms/step - loss: 1.3519 - accuracy: 0.5159 - val_loss: 1.2661 - val_accuracy: 0.5458\n"
          ],
          "name": "stdout"
        }
      ]
    },
    {
      "cell_type": "code",
      "metadata": {
        "colab": {
          "base_uri": "https://localhost:8080/"
        },
        "id": "DD0MSkJ1c9C5",
        "outputId": "2200fa45-e92a-49d7-f5fe-72c389dcb651"
      },
      "source": [
        "#evaluating model\n",
        "scores = model.evaluate(X_test, y_test, verbose=0)\n",
        "#Accuracy & loss evaluation\n",
        "print(\"Accuracy of model before adding layers: %.2f%%\" % (scores[1]*100))\n",
        "#Saving the model\n",
        "model.save('./model' + '.h5') \n"
      ],
      "execution_count": 27,
      "outputs": [
        {
          "output_type": "stream",
          "text": [
            "Accuracy of model before adding layers: 54.58%\n"
          ],
          "name": "stdout"
        }
      ]
    },
    {
      "cell_type": "code",
      "metadata": {
        "id": "ihoPMt1_dEJS"
      },
      "source": [
        "# Create the model using sequential Neural Network\n",
        "model_1 = Sequential() \n",
        "# Convolutional input layer, 32 feature maps with a size of 3×3 and a rectifier activation function\n",
        "model_1.add(Conv2D(32, (3, 3), input_shape=(32, 32, 3), padding='same', activation='relu', kernel_constraint=maxnorm(3)))\n",
        "#Dropout layer at 20%\n",
        "model_1.add(Dropout(0.2))\n",
        "#Convolutional layer, 32 feature maps with a size of 3×3 and a rectifier activation function\n",
        "model_1.add(Conv2D(32, (3, 3), activation='relu', padding='same', kernel_constraint=maxnorm(3))) \n",
        "#Max Pool layer with size 2×2\n",
        "model_1.add(MaxPooling2D(pool_size=(2, 2))) \n",
        "#Convolutional layer, 64 feature maps with a size of 3×3 and a rectifier activation function\n",
        "model_1.add(Conv2D(64, (3, 3), input_shape=(32, 32, 3), padding='same', activation='relu', kernel_constraint=maxnorm(3))) \n",
        "# Dropout layer at 20%\n",
        "model_1.add(Dropout(0.2))\n",
        "#Convolutional layer, 64 feature maps with a size of 3×3 and a rectifier activation function\n",
        "model_1.add(Conv2D(64, (3, 3), activation='relu', padding='same', kernel_constraint=maxnorm(3))) \n",
        "#Max Pool layer with size 2×2\n",
        "model_1.add(MaxPooling2D(pool_size=(2, 2)))\n",
        "#Convolutional layer, 128 feature maps with a size of 3×3 and a rectifier activation function\n",
        "model_1.add(Conv2D(128, (3, 3), input_shape=(32, 32, 3), padding='same', activation='relu', kernel_constraint=maxnorm(3))) \n",
        "#Dropout layer at 20%\n",
        "model_1.add(Dropout(0.2))\n",
        "#Convolutional layer,128 feature maps with a size of 3×3 and a rectifier activation function\n",
        "model_1.add(Conv2D(128, (3, 3), activation='relu', padding='same', kernel_constraint=maxnorm(3))) \n",
        "#Max Pool layer with size 2×2\n",
        "model_1.add(MaxPooling2D(pool_size=(2, 2)))\n",
        "#Flatten layer\n",
        "model_1.add(Flatten())\n",
        "#Dropout layer at 20%\n",
        "model_1.add(Dropout(0.2)) \n",
        "#Fully connected layer with 1024 units and a rectifier activation function\n",
        "model_1.add(Dense(1024, activation='relu', kernel_constraint=maxnorm(3))) \n",
        "#Dropout layer at 20%\n",
        "model_1.add(Dropout(0.2))\n",
        "#Fully connected layer with 512 units and a rectifier activation function\n",
        "model_1.add(Dense(512, activation='relu', kernel_constraint=maxnorm(3)))\n",
        "#Dropout layer at 20%\n",
        "model_1.add(Dropout(0.2))\n",
        "#Fully connected output layer with 10 units and a Softmax activation function\n",
        "model_1.add(Dense(num_classes, activation='softmax'))\n"
      ],
      "execution_count": 29,
      "outputs": []
    },
    {
      "cell_type": "code",
      "metadata": {
        "colab": {
          "base_uri": "https://localhost:8080/"
        },
        "id": "meMpN2xvdIRc",
        "outputId": "1e0c4f21-bf84-4455-9e1a-b68181b7618d"
      },
      "source": [
        "# Compiling model\n",
        "epochs = 3\n",
        "lrate = 0.01\n",
        "decay = lrate/epochs\n",
        "sgd = SGD(lr=lrate, momentum=0.9, decay=decay, nesterov=False)\n",
        "model_1.compile(loss='categorical_crossentropy', optimizer=sgd, metrics=['accuracy'])\n",
        "model_1.summary()"
      ],
      "execution_count": 34,
      "outputs": [
        {
          "output_type": "stream",
          "text": [
            "Model: \"sequential_5\"\n",
            "_________________________________________________________________\n",
            "Layer (type)                 Output Shape              Param #   \n",
            "=================================================================\n",
            "conv2d_14 (Conv2D)           (None, 32, 32, 32)        896       \n",
            "_________________________________________________________________\n",
            "dropout_14 (Dropout)         (None, 32, 32, 32)        0         \n",
            "_________________________________________________________________\n",
            "conv2d_15 (Conv2D)           (None, 32, 32, 32)        9248      \n",
            "_________________________________________________________________\n",
            "max_pooling2d_7 (MaxPooling2 (None, 16, 16, 32)        0         \n",
            "_________________________________________________________________\n",
            "conv2d_16 (Conv2D)           (None, 16, 16, 64)        18496     \n",
            "_________________________________________________________________\n",
            "dropout_15 (Dropout)         (None, 16, 16, 64)        0         \n",
            "_________________________________________________________________\n",
            "conv2d_17 (Conv2D)           (None, 16, 16, 64)        36928     \n",
            "_________________________________________________________________\n",
            "max_pooling2d_8 (MaxPooling2 (None, 8, 8, 64)          0         \n",
            "_________________________________________________________________\n",
            "conv2d_18 (Conv2D)           (None, 8, 8, 128)         73856     \n",
            "_________________________________________________________________\n",
            "dropout_16 (Dropout)         (None, 8, 8, 128)         0         \n",
            "_________________________________________________________________\n",
            "conv2d_19 (Conv2D)           (None, 8, 8, 128)         147584    \n",
            "_________________________________________________________________\n",
            "max_pooling2d_9 (MaxPooling2 (None, 4, 4, 128)         0         \n",
            "_________________________________________________________________\n",
            "flatten_5 (Flatten)          (None, 2048)              0         \n",
            "_________________________________________________________________\n",
            "dropout_17 (Dropout)         (None, 2048)              0         \n",
            "_________________________________________________________________\n",
            "dense_10 (Dense)             (None, 1024)              2098176   \n",
            "_________________________________________________________________\n",
            "dropout_18 (Dropout)         (None, 1024)              0         \n",
            "_________________________________________________________________\n",
            "dense_11 (Dense)             (None, 512)               524800    \n",
            "_________________________________________________________________\n",
            "dropout_19 (Dropout)         (None, 512)               0         \n",
            "_________________________________________________________________\n",
            "dense_12 (Dense)             (None, 10)                5130      \n",
            "=================================================================\n",
            "Total params: 2,915,114\n",
            "Trainable params: 2,915,114\n",
            "Non-trainable params: 0\n",
            "_________________________________________________________________\n"
          ],
          "name": "stdout"
        }
      ]
    },
    {
      "cell_type": "code",
      "metadata": {
        "colab": {
          "base_uri": "https://localhost:8080/"
        },
        "id": "WlwZ5IAcdLxF",
        "outputId": "b706c13a-acd7-49e4-a06c-e43c2c0cf683"
      },
      "source": [
        "# Fit the model\n",
        "history_1=model_1.fit(X_train, y_train, validation_data=(X_test, y_test), epochs=epochs, batch_size=32)\n"
      ],
      "execution_count": null,
      "outputs": [
        {
          "output_type": "stream",
          "text": [
            "Epoch 1/3\n",
            "1563/1563 [==============================] - 498s 318ms/step - loss: 2.0580 - accuracy: 0.2350 - val_loss: 1.6690 - val_accuracy: 0.4058\n",
            "Epoch 2/3\n",
            "1084/1563 [===================>..........] - ETA: 2:27 - loss: 1.6021 - accuracy: 0.4148"
          ],
          "name": "stdout"
        }
      ]
    },
    {
      "cell_type": "code",
      "metadata": {
        "colab": {
          "base_uri": "https://localhost:8080/",
          "height": 203
        },
        "id": "dyFDBxRJdO74",
        "outputId": "805d7ea0-7cf9-4186-854c-545966ac444b"
      },
      "source": [
        "# Evaluation of the model\n",
        "scores_1 = model_1.evaluate(X_test, y_test, verbose=0)\n",
        "print(\"Accuracy of model_1: %.2f%%\" % (scores_1[1]*100))\n"
      ],
      "execution_count": null,
      "outputs": [
        {
          "output_type": "error",
          "ename": "NameError",
          "evalue": "ignored",
          "traceback": [
            "\u001b[0;31m---------------------------------------------------------------------------\u001b[0m",
            "\u001b[0;31mNameError\u001b[0m                                 Traceback (most recent call last)",
            "\u001b[0;32m<ipython-input-1-3814f15b8329>\u001b[0m in \u001b[0;36m<module>\u001b[0;34m()\u001b[0m\n\u001b[1;32m      1\u001b[0m \u001b[0;31m# Final evaluation of the model\u001b[0m\u001b[0;34m\u001b[0m\u001b[0;34m\u001b[0m\u001b[0;34m\u001b[0m\u001b[0m\n\u001b[0;32m----> 2\u001b[0;31m \u001b[0mscores1\u001b[0m \u001b[0;34m=\u001b[0m \u001b[0mmodel1\u001b[0m\u001b[0;34m.\u001b[0m\u001b[0mevaluate\u001b[0m\u001b[0;34m(\u001b[0m\u001b[0mX_test\u001b[0m\u001b[0;34m,\u001b[0m \u001b[0my_test\u001b[0m\u001b[0;34m,\u001b[0m \u001b[0mverbose\u001b[0m\u001b[0;34m=\u001b[0m\u001b[0;36m0\u001b[0m\u001b[0;34m)\u001b[0m\u001b[0;34m\u001b[0m\u001b[0;34m\u001b[0m\u001b[0m\n\u001b[0m\u001b[1;32m      3\u001b[0m \u001b[0mprint\u001b[0m\u001b[0;34m(\u001b[0m\u001b[0;34m\"Accuracy: %.2f%%\"\u001b[0m \u001b[0;34m%\u001b[0m \u001b[0;34m(\u001b[0m\u001b[0mscores1\u001b[0m\u001b[0;34m[\u001b[0m\u001b[0;36m1\u001b[0m\u001b[0;34m]\u001b[0m\u001b[0;34m*\u001b[0m\u001b[0;36m100\u001b[0m\u001b[0;34m)\u001b[0m\u001b[0;34m)\u001b[0m\u001b[0;34m\u001b[0m\u001b[0;34m\u001b[0m\u001b[0m\n",
            "\u001b[0;31mNameError\u001b[0m: name 'model1' is not defined"
          ]
        }
      ]
    },
    {
      "cell_type": "code",
      "metadata": {
        "id": "p43xvUoldS_6"
      },
      "source": [
        "print(\"Accuracy of model before adding layers: %.2f%%\" % (scores[1]*100))\n",
        "print(\"Accuracy of model after adding layers: %.2f%%\" % (scores_1[1]*100))\n"
      ],
      "execution_count": null,
      "outputs": []
    },
    {
      "cell_type": "code",
      "metadata": {
        "id": "MzzETsgOdXzZ"
      },
      "source": [
        "pred = pd.DataFrame()\n",
        "image_id = []\n",
        "for i in range(len(X_test[0:4])):\n",
        "    i = i + 1\n",
        "    image_id.append(i)\n",
        "pred[\"ImageId\"] = image_id\n",
        "pred[\"Label\"] = model.predict_classes(X_test[0:4], verbose=0)\n",
        "print(pred.head())\n",
        "\n",
        "arr  = np.array(y_test[0:4])\n",
        "print('Actual labels for images: {0}'.format(np.argmax(arr, axis=1)))\n"
      ],
      "execution_count": null,
      "outputs": []
    },
    {
      "cell_type": "code",
      "metadata": {
        "id": "T8j6fdgLdb0F"
      },
      "source": [
        "plt.plot(history.history['accuracy'])\n",
        "plt.plot(history.history['val_accuracy'])\n",
        "plt.plot(history.history['loss'])\n",
        "plt.plot(history.history['val_loss'])\n",
        "plt.title('model accuracy')\n",
        "plt.ylabel('accuracy')\n",
        "plt.xlabel('epoch')\n",
        "plt.legend(['accuracy', 'validation accuracy','loss','validation loss'], loc='upper left')\n",
        "plt.show()\n"
      ],
      "execution_count": null,
      "outputs": []
    },
    {
      "cell_type": "code",
      "metadata": {
        "id": "rnh4mPuUdg0i"
      },
      "source": [
        "# using saved model\n",
        "model_2 = keras.models.load_model('./model.h5')\n",
        "pred = pd.DataFrame()\n",
        "image_id = []\n",
        "for i in range(len(X_test[0:4])):\n",
        "    i = i + 1\n",
        "    image_id.append(i)\n",
        "pred[\"ImageId\"] = image_id\n",
        "pred[\"Label\"] = model_2.predict_classes(X_test[0:4], verbose=0)\n",
        "print(pred.head())\n",
        "\n",
        "arr  = np.array(y_test[0:4])\n",
        "print('Actual labels for images: {0}'.format(np.argmax(a, axis=1)))\n"
      ],
      "execution_count": null,
      "outputs": []
    }
  ]
}