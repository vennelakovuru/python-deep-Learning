{
 "cells": [
  {
   "cell_type": "code",
   "execution_count": 3,
   "id": "75c94eeb",
   "metadata": {},
   "outputs": [],
   "source": [
    "from keras.layers import Input, Dense\n",
    "from keras.models import Model"
   ]
  },
  {
   "cell_type": "code",
   "execution_count": 4,
   "id": "8f8a909f",
   "metadata": {},
   "outputs": [],
   "source": [
    "# this is the size of our encoded representations\n",
    "encoding_dim = 32  # 32 floats -> compression of factor 24.5, assuming the input is 784 floats"
   ]
  },
  {
   "cell_type": "code",
   "execution_count": 5,
   "id": "1f33e89f",
   "metadata": {},
   "outputs": [],
   "source": [
    "# this is our input placeholder\n",
    "input_img = Input(shape=(784,))\n",
    "# \"encoded\" is the encoded representation of the input\n",
    "encoded = Dense(encoding_dim, activation='relu')(input_img)\n",
    "# \"decoded\" is the lossy reconstruction of the input\n",
    "decoded = Dense(784, activation='sigmoid')(encoded)"
   ]
  },
  {
   "cell_type": "code",
   "execution_count": 6,
   "id": "7abc5865",
   "metadata": {},
   "outputs": [],
   "source": [
    "# this model maps an input to its reconstruction\n",
    "autoencoder = Model(input_img, decoded)\n",
    "# this model maps an input to its encoded representation\n",
    "autoencoder.compile(optimizer='adadelta', loss='binary_crossentropy',metrics=['accuracy'])"
   ]
  },
  {
   "cell_type": "code",
   "execution_count": 7,
   "id": "ca934c2a",
   "metadata": {},
   "outputs": [
    {
     "name": "stdout",
     "output_type": "stream",
     "text": [
      "Downloading data from http://fashion-mnist.s3-website.eu-central-1.amazonaws.com/train-labels-idx1-ubyte.gz\n",
      "32768/29515 [=================================] - 0s 5us/step\n",
      "Downloading data from http://fashion-mnist.s3-website.eu-central-1.amazonaws.com/train-images-idx3-ubyte.gz\n",
      "26427392/26421880 [==============================] - 17s 1us/step\n",
      "Downloading data from http://fashion-mnist.s3-website.eu-central-1.amazonaws.com/t10k-labels-idx1-ubyte.gz\n",
      "8192/5148 [===============================================] - 0s 0us/step\n",
      "Downloading data from http://fashion-mnist.s3-website.eu-central-1.amazonaws.com/t10k-images-idx3-ubyte.gz\n",
      "4423680/4422102 [==============================] - 4s 1us/step\n"
     ]
    }
   ],
   "source": [
    "from keras.datasets import mnist, fashion_mnist\n",
    "import numpy as np\n",
    "(x_train, y_train), (x_test, y_test) = fashion_mnist.load_data()\n",
    "# Scaling data\n",
    "x_train = x_train.astype('float32') / 255.\n",
    "x_test = x_test.astype('float32') / 255.\n",
    "\n",
    "x_train = x_train.reshape((len(x_train), np.prod(x_train.shape[1:])))\n",
    "x_test = x_test.reshape((len(x_test), np.prod(x_test.shape[1:])))"
   ]
  },
  {
   "cell_type": "code",
   "execution_count": 8,
   "id": "bf16bd40",
   "metadata": {},
   "outputs": [
    {
     "name": "stdout",
     "output_type": "stream",
     "text": [
      "Train on 60000 samples, validate on 10000 samples\n",
      "Epoch 1/5\n",
      "60000/60000 [==============================] - 4s 73us/step - loss: 0.5287 - accuracy: 0.4490 - val_loss: 0.4550 - val_accuracy: 0.4825\n",
      "Epoch 2/5\n",
      "60000/60000 [==============================] - 4s 65us/step - loss: 0.4225 - accuracy: 0.4886 - val_loss: 0.4042 - val_accuracy: 0.4885\n",
      "Epoch 3/5\n",
      "60000/60000 [==============================] - 4s 64us/step - loss: 0.3927 - accuracy: 0.4925 - val_loss: 0.3846 - val_accuracy: 0.4922\n",
      "Epoch 4/5\n",
      "60000/60000 [==============================] - 4s 68us/step - loss: 0.3748 - accuracy: 0.4954 - val_loss: 0.3689 - val_accuracy: 0.4941\n",
      "Epoch 5/5\n",
      "60000/60000 [==============================] - 4s 66us/step - loss: 0.3608 - accuracy: 0.4975 - val_loss: 0.3567 - val_accuracy: 0.4961\n"
     ]
    },
    {
     "data": {
      "text/plain": [
       "<keras.callbacks.callbacks.History at 0x7ff87c3411d0>"
      ]
     },
     "execution_count": 8,
     "metadata": {},
     "output_type": "execute_result"
    }
   ],
   "source": [
    "#Fitting the model\n",
    "autoencoder.fit(x_train, x_train,\n",
    "                epochs=5,\n",
    "                batch_size=256,\n",
    "                shuffle=True,\n",
    "                validation_data=(x_test, x_test))"
   ]
  },
  {
   "cell_type": "code",
   "execution_count": 9,
   "id": "7d6ec3b6",
   "metadata": {},
   "outputs": [],
   "source": [
    "#predicting test data\n",
    "pred = autoencoder.predict(x_test)"
   ]
  },
  {
   "cell_type": "code",
   "execution_count": 32,
   "id": "e2098274",
   "metadata": {},
   "outputs": [
    {
     "data": {
      "image/png": "[encoded data removed]",
      "text/plain": [
       "<Figure size 432x288 with 1 Axes>"
      ]
     },
     "metadata": {
      "needs_background": "light"
     },
     "output_type": "display_data"
    }
   ],
   "source": [
    "#Input Image\n",
    "from matplotlib import pyplot as plt\n",
    "plt.imshow(x_test[60].reshape(28,28))\n",
    "plt.show()"
   ]
  },
  {
   "cell_type": "code",
   "execution_count": 33,
   "id": "fbb5978e",
   "metadata": {},
   "outputs": [
    {
     "data": {
      "image/png": "[encoded data removed]",
      "text/plain": [
       "<Figure size 432x288 with 1 Axes>"
      ]
     },
     "metadata": {
      "needs_background": "light"
     },
     "output_type": "display_data"
    }
   ],
   "source": [
    "#reconstructed Image\n",
    "plt.imshow(pred[60].reshape(28,28))\n",
    "plt.show()"
   ]
  },
  {
   "cell_type": "markdown",
   "id": "838e8dec",
   "metadata": {},
   "source": [
    "1. . Add one more hidden layer to autoencoder"
   ]
  },
  {
   "cell_type": "code",
   "execution_count": 13,
   "id": "b62ec3c3",
   "metadata": {},
   "outputs": [],
   "source": [
    "input_img = Input(shape=(784,))\n",
    "#Adding hidden layer to encoding\n",
    "hiddenLayer_encoded=Dense(512,activation='relu')(input_img)\n",
    "# \"encoded\" is the encoded representation of the input\n",
    "encoded = Dense(encoding_dim, activation='relu')(hiddenLayer_encoded)\n",
    "#Adding hidden layer\n",
    "hiddenLayer_dense=Dense(512,activation='relu')(encoded)\n",
    "# \"decoded\" is the lossy reconstruction of the input\n",
    "decoded = Dense(784, activation='sigmoid')(hiddenLayer_dense)"
   ]
  },
  {
   "cell_type": "code",
   "execution_count": 14,
   "id": "f5ac49b0",
   "metadata": {},
   "outputs": [],
   "source": [
    "# this model maps an input to its reconstruction\n",
    "autoencoder = Model(input_img, decoded)\n",
    "# this model maps an input to its encoded representation\n",
    "autoencoder.compile(optimizer='adadelta', loss='binary_crossentropy',metrics=['accuracy'])"
   ]
  },
  {
   "cell_type": "code",
   "execution_count": 15,
   "id": "d6e852d5",
   "metadata": {},
   "outputs": [],
   "source": [
    "from keras.datasets import mnist, fashion_mnist\n",
    "import numpy as np\n",
    "\n",
    "(x_train, y_train), (x_test, y_test) = fashion_mnist.load_data()\n",
    "\n",
    "#Scaling Data\n",
    "x_train = x_train.astype('float32') / 255.\n",
    "x_test = x_test.astype('float32') / 255.\n",
    "\n",
    "#Setting Up data\n",
    "x_train = x_train.reshape((len(x_train), np.prod(x_train.shape[1:])))\n",
    "x_test = x_test.reshape((len(x_test), np.prod(x_test.shape[1:])))"
   ]
  },
  {
   "cell_type": "code",
   "execution_count": 16,
   "id": "bc8f826f",
   "metadata": {},
   "outputs": [
    {
     "name": "stdout",
     "output_type": "stream",
     "text": [
      "Train on 60000 samples, validate on 10000 samples\n",
      "Epoch 1/5\n",
      "60000/60000 [==============================] - 10s 174us/step - loss: 0.4845 - accuracy: 0.4607 - val_loss: 0.3924 - val_accuracy: 0.4901\n",
      "Epoch 2/5\n",
      "60000/60000 [==============================] - 10s 164us/step - loss: 0.3769 - accuracy: 0.4931 - val_loss: 0.3642 - val_accuracy: 0.4927\n",
      "Epoch 3/5\n",
      "60000/60000 [==============================] - 10s 164us/step - loss: 0.3539 - accuracy: 0.4978 - val_loss: 0.3457 - val_accuracy: 0.5009\n",
      "Epoch 4/5\n",
      "60000/60000 [==============================] - 10s 164us/step - loss: 0.3371 - accuracy: 0.5010 - val_loss: 0.3389 - val_accuracy: 0.4954\n",
      "Epoch 5/5\n",
      "60000/60000 [==============================] - 10s 170us/step - loss: 0.3285 - accuracy: 0.5022 - val_loss: 0.3274 - val_accuracy: 0.5025\n"
     ]
    },
    {
     "data": {
      "text/plain": [
       "<keras.callbacks.callbacks.History at 0x7ff898de4668>"
      ]
     },
     "execution_count": 16,
     "metadata": {},
     "output_type": "execute_result"
    }
   ],
   "source": [
    "#Fitting the model\n",
    "autoencoder.fit(x_train, x_train,\n",
    "                epochs=5,\n",
    "                batch_size=256,\n",
    "                shuffle=True,\n",
    "                validation_data=(x_test, x_test))"
   ]
  },
  {
   "cell_type": "code",
   "execution_count": 18,
   "id": "018583be",
   "metadata": {},
   "outputs": [],
   "source": [
    "#predicting test data\n",
    "pred = autoencoder.predict(x_test)"
   ]
  },
  {
   "cell_type": "markdown",
   "id": "c1bbef92",
   "metadata": {},
   "source": [
    "2. Do the prediction on the test data and then visualize one of the reconstructed version of that test data. Also, visualize the same test data before reconstructionusing "
   ]
  },
  {
   "cell_type": "code",
   "execution_count": 34,
   "id": "38e8c5fb",
   "metadata": {},
   "outputs": [
    {
     "data": {
      "image/png": "[encoded data removed]",
      "text/plain": [
       "<Figure size 432x288 with 1 Axes>"
      ]
     },
     "metadata": {
      "needs_background": "light"
     },
     "output_type": "display_data"
    }
   ],
   "source": [
    "#Input Image\n",
    "from matplotlib import pyplot as plt\n",
    "plt.imshow(x_test[60].reshape(28,28))\n",
    "plt.show()"
   ]
  },
  {
   "cell_type": "code",
   "execution_count": 35,
   "id": "72ed25ca",
   "metadata": {},
   "outputs": [
    {
     "data": {
      "image/png": "[encoded data removed]",
      "text/plain": [
       "<Figure size 432x288 with 1 Axes>"
      ]
     },
     "metadata": {
      "needs_background": "light"
     },
     "output_type": "display_data"
    }
   ],
   "source": [
    "#reconstructed Image\n",
    "from matplotlib import pyplot as plt\n",
    "plt.imshow(pred[60].reshape(28,28))\n",
    "plt.show()"
   ]
  },
  {
   "cell_type": "markdown",
   "id": "d7799beb",
   "metadata": {},
   "source": [
    "3. Repeat the question 2 on the denoisening autoencoder"
   ]
  },
  {
   "cell_type": "code",
   "execution_count": 21,
   "id": "f78bb13a",
   "metadata": {},
   "outputs": [],
   "source": [
    "#introducing noise\n",
    "noise_factor = 0.5\n",
    "x_train_noisy = x_train + noise_factor * np.random.normal(loc=0.0, scale=1.0, size=x_train.shape)\n",
    "x_test_noisy = x_test + noise_factor * np.random.normal(loc=0.0, scale=1.0, size=x_test.shape)"
   ]
  },
  {
   "cell_type": "code",
   "execution_count": 22,
   "id": "40ac08fa",
   "metadata": {},
   "outputs": [
    {
     "name": "stdout",
     "output_type": "stream",
     "text": [
      "Train on 60000 samples, validate on 10000 samples\n",
      "Epoch 1/10\n",
      "60000/60000 [==============================] - 10s 170us/step - loss: 0.3294 - accuracy: 0.5020 - val_loss: 0.3134 - val_accuracy: 0.0000e+00\n",
      "Epoch 2/10\n",
      "60000/60000 [==============================] - 10s 169us/step - loss: 0.3256 - accuracy: 0.5024 - val_loss: 0.3101 - val_accuracy: 0.0000e+00\n",
      "Epoch 3/10\n",
      "60000/60000 [==============================] - 10s 166us/step - loss: 0.3234 - accuracy: 0.5027 - val_loss: 0.3082 - val_accuracy: 0.0000e+00\n",
      "Epoch 4/10\n",
      "60000/60000 [==============================] - 10s 171us/step - loss: 0.3216 - accuracy: 0.5030 - val_loss: 0.3077 - val_accuracy: 0.0000e+00\n",
      "Epoch 5/10\n",
      "60000/60000 [==============================] - 11s 180us/step - loss: 0.3202 - accuracy: 0.5032 - val_loss: 0.3043 - val_accuracy: 0.0000e+00\n",
      "Epoch 6/10\n",
      "60000/60000 [==============================] - 11s 181us/step - loss: 0.3188 - accuracy: 0.5034 - val_loss: 0.3021 - val_accuracy: 0.0000e+00\n",
      "Epoch 7/10\n",
      "60000/60000 [==============================] - 11s 179us/step - loss: 0.3175 - accuracy: 0.5037 - val_loss: 0.3028 - val_accuracy: 0.0000e+00\n",
      "Epoch 8/10\n",
      "60000/60000 [==============================] - 11s 181us/step - loss: 0.3162 - accuracy: 0.5039 - val_loss: 0.3011 - val_accuracy: 0.0000e+00\n",
      "Epoch 9/10\n",
      "60000/60000 [==============================] - 11s 192us/step - loss: 0.3151 - accuracy: 0.5041 - val_loss: 0.2973 - val_accuracy: 0.0000e+00\n",
      "Epoch 10/10\n",
      "60000/60000 [==============================] - 11s 191us/step - loss: 0.3139 - accuracy: 0.5043 - val_loss: 0.2974 - val_accuracy: 0.0000e+00\n"
     ]
    }
   ],
   "source": [
    "#Fitting the model\n",
    "history=autoencoder.fit(x_train_noisy, x_train,\n",
    "                epochs=10,\n",
    "                batch_size=256,\n",
    "                shuffle=True,\n",
    "                validation_data=(x_test_noisy, x_test_noisy))"
   ]
  },
  {
   "cell_type": "code",
   "execution_count": 36,
   "id": "348df069",
   "metadata": {},
   "outputs": [
    {
     "data": {
      "image/png": "[encoded data removed]",
      "text/plain": [
       "<Figure size 432x288 with 1 Axes>"
      ]
     },
     "metadata": {
      "needs_background": "light"
     },
     "output_type": "display_data"
    }
   ],
   "source": [
    "#Image before applying noise to data\n",
    "from matplotlib import pyplot as plt\n",
    "plt.imshow(x_train[60].reshape(28,28))\n",
    "plt.show()"
   ]
  },
  {
   "cell_type": "code",
   "execution_count": 38,
   "id": "c57465f8",
   "metadata": {},
   "outputs": [
    {
     "data": {
      "image/png": "[encoded data removed]",
      "text/plain": [
       "<Figure size 432x288 with 1 Axes>"
      ]
     },
     "metadata": {
      "needs_background": "light"
     },
     "output_type": "display_data"
    }
   ],
   "source": [
    "#Image after applying noise to data\n",
    "from matplotlib import pyplot as plt\n",
    "plt.imshow(x_train_noisy[60].reshape(28,28))\n",
    "plt.show()"
   ]
  },
  {
   "cell_type": "code",
   "execution_count": 25,
   "id": "33a1f62a",
   "metadata": {},
   "outputs": [],
   "source": [
    "#predicting test data\n",
    "pred = autoencoder.predict(x_test_noisy) "
   ]
  },
  {
   "cell_type": "code",
   "execution_count": 39,
   "id": "091a1619",
   "metadata": {},
   "outputs": [
    {
     "data": {
      "image/png": "[encoded data removed]",
      "text/plain": [
       "<Figure size 432x288 with 1 Axes>"
      ]
     },
     "metadata": {
      "needs_background": "light"
     },
     "output_type": "display_data"
    }
   ],
   "source": [
    "#Input Image After Noise to be predicted\n",
    "from matplotlib import pyplot as plt\n",
    "plt.imshow(x_test_noisy[60].reshape(28,28))\n",
    "plt.show()"
   ]
  },
  {
   "cell_type": "code",
   "execution_count": 40,
   "id": "4984aad8",
   "metadata": {},
   "outputs": [
    {
     "data": {
      "image/png": "[encoded data removed]",
      "text/plain": [
       "<Figure size 432x288 with 1 Axes>"
      ]
     },
     "metadata": {
      "needs_background": "light"
     },
     "output_type": "display_data"
    }
   ],
   "source": [
    "#reconstructed Image\n",
    "from matplotlib import pyplot as plt\n",
    "plt.imshow(pred[60].reshape(28,28))\n",
    "plt.show()"
   ]
  },
  {
   "cell_type": "markdown",
   "id": "2099480e",
   "metadata": {},
   "source": [
    "4. plot lossand accuracy using the history object"
   ]
  },
  {
   "cell_type": "code",
   "execution_count": 28,
   "id": "757bc9df",
   "metadata": {},
   "outputs": [
    {
     "data": {
      "image/png": "[encoded data removed]",
      "text/plain": [
       "<Figure size 432x288 with 1 Axes>"
      ]
     },
     "metadata": {
      "needs_background": "light"
     },
     "output_type": "display_data"
    }
   ],
   "source": [
    "import matplotlib.pyplot as plt\n",
    "plt.plot(history.history['accuracy'])\n",
    "plt.plot(history.history['loss'])\n",
    "plt.title('model accuracy vs loss')\n",
    "plt.xlabel('epoch')\n",
    "plt.legend(['accuray','loss'], loc='upper left')\n",
    "plt.show()"
   ]
  },
  {
   "cell_type": "markdown",
   "id": "8ac195bb",
   "metadata": {},
   "source": [
    "BONUS:  1.Visualize the compressed version of the input data in"
   ]
  },
  {
   "cell_type": "code",
   "execution_count": 29,
   "id": "08e6e178",
   "metadata": {},
   "outputs": [],
   "source": [
    "# this is our input placeholder\n",
    "input_img = Input(shape=(784,))\n",
    "# \"encoded\" is the encoded representation of the input\n",
    "encoded = Dense(encoding_dim, activation='relu')(input_img) #Undercomplete Encoding\n",
    "# \"decoded\" is the lossy reconstruction of the input\n",
    "decoded = Dense(784, activation='sigmoid')(encoded)\n",
    "encoder = Model(input_img, encoded)\n",
    "encoder.compile(optimizer='adadelta', loss='binary_crossentropy',metrics=['accuracy'])"
   ]
  },
  {
   "cell_type": "code",
   "execution_count": 30,
   "id": "2945082b",
   "metadata": {},
   "outputs": [],
   "source": [
    "from keras.datasets import mnist, fashion_mnist\n",
    "import numpy as np\n",
    "\n",
    "(x_train, y_train), (x_test, y_test) = fashion_mnist.load_data()\n",
    "#Scaling Data\n",
    "x_train = x_train.astype('float32') / 255.\n",
    "x_test = x_test.astype('float32') / 255.\n",
    "#Setting up width and height of image\n",
    "x_train = x_train.reshape((len(x_train), np.prod(x_train.shape[1:])))\n",
    "x_test = x_test.reshape((len(x_test), np.prod(x_test.shape[1:])))\n",
    "encoded_images = encoder.predict(x_test[[2],:])"
   ]
  },
  {
   "cell_type": "code",
   "execution_count": 31,
   "id": "6e67b9a7",
   "metadata": {},
   "outputs": [
    {
     "data": {
      "image/png": "[encoded data removed]",
      "text/plain": [
       "<Figure size 432x288 with 1 Axes>"
      ]
     },
     "metadata": {
      "needs_background": "light"
     },
     "output_type": "display_data"
    }
   ],
   "source": [
    "from matplotlib import pyplot as plt\n",
    "plt.imshow(encoded_images)\n",
    "plt.show()"
   ]
  },
  {
   "cell_type": "code",
   "execution_count": null,
   "id": "40b10973",
   "metadata": {},
   "outputs": [],
   "source": []
  }
 ],
 "metadata": {
  "kernelspec": {
   "display_name": "Python 3",
   "language": "python",
   "name": "python3"
  },
  "language_info": {
   "codemirror_mode": {
    "name": "ipython",
    "version": 3
   },
   "file_extension": ".py",
   "mimetype": "text/x-python",
   "name": "python",
   "nbconvert_exporter": "python",
   "pygments_lexer": "ipython3",
   "version": "3.6.13"
  }
 },
 "nbformat": 4,
 "nbformat_minor": 5
}
