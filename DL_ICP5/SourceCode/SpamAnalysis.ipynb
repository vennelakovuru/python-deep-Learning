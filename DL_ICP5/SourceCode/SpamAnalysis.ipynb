{
  "nbformat": 4,
  "nbformat_minor": 0,
  "metadata": {
    "colab": {
      "name": "SpamAnalysis.ipynb",
      "provenance": [],
      "collapsed_sections": []
    },
    "kernelspec": {
      "name": "python3",
      "display_name": "Python 3"
    },
    "language_info": {
      "name": "python"
    }
  },
  "cells": [
    {
      "cell_type": "code",
      "metadata": {
        "id": "NHaz-z1L2gbF"
      },
      "source": [
        "import pandas as pd # data processing, CSV file I/O (e.g. pd.read_csv)\n",
        "import numpy as np\n",
        "from keras.preprocessing.text import Tokenizer\n",
        "from keras.preprocessing.sequence import pad_sequences\n",
        "from keras.models import Sequential\n",
        "from keras.layers import Dense, Embedding, LSTM, SpatialDropout1D\n",
        "import matplotlib.pyplot as plt\n",
        "from sklearn.model_selection import train_test_split\n",
        "from sklearn.preprocessing import LabelEncoder\n",
        "from keras.utils.np_utils import to_categorical\n",
        "import re\n"
      ],
      "execution_count": 4,
      "outputs": []
    },
    {
      "cell_type": "markdown",
      "metadata": {
        "id": "hzWGUR5oifeL"
      },
      "source": [
        "# 3.Apply the code on spam data set available in thesourcecode"
      ]
    },
    {
      "cell_type": "code",
      "metadata": {
        "id": "aRU1RSQ13OI9"
      },
      "source": [
        "#Loading the dataset\n",
        "data = pd.read_csv('spam.csv', encoding='latin-1') \n",
        "# Keeping only the neccessary columns\n",
        "data = data[['v1','v2']] \n",
        "#converting to lower case\n",
        "data['v2'] = data['v2'].apply(lambda x: x.lower()) \n",
        "#removing special characters are removed\n",
        "data['v2'] = data['v2'].apply((lambda x: re.sub('[^a-zA-Z0-9\\s]', '', x))) "
      ],
      "execution_count": 5,
      "outputs": []
    },
    {
      "cell_type": "code",
      "metadata": {
        "id": "2IWKPplu3nN_"
      },
      "source": [
        "#taking 2000 as max value to tokenize sentence\n",
        "max_fatures = 2000\n",
        "tokenizer = Tokenizer(num_words=max_fatures, split=' ') \n",
        "tokenizer.fit_on_texts(data['v2'].values)\n",
        "#taking values to feature matrix\n",
        "X = tokenizer.texts_to_sequences(data['v2'].values) \n",
        "#Padding the feature matrix\n",
        "X = pad_sequences(X) \n",
        "embed_dim = 128 \n",
        "lstm_out = 196 "
      ],
      "execution_count": 6,
      "outputs": []
    },
    {
      "cell_type": "code",
      "metadata": {
        "id": "TZDApadX3xV8"
      },
      "source": [
        "#Defining function to create model using Sequential Neural Network\n",
        "def createmodel():\n",
        "    model = Sequential() \n",
        "    #taking input dimension 2000 Neurons, output dimension 128 Neurons\n",
        "    model.add(Embedding(max_fatures, embed_dim,input_length = X.shape[1])) \n",
        "    model.add(LSTM(lstm_out, dropout=0.2, recurrent_dropout=0.2)) \n",
        "    model.add(Dense(2,activation='softmax')) \n",
        "    model.compile(loss = 'categorical_crossentropy', optimizer='adam',metrics = ['accuracy']) \n",
        "    return model\n",
        "\n",
        "#Applying label Encoding\n",
        "labelencoder = LabelEncoder() \n",
        "integer_encoded = labelencoder.fit_transform(data['v1']) \n",
        "y = to_categorical(integer_encoded)\n",
        "#Splitting data into 67% training data, 33% test data \n",
        "X_train, X_test, Y_train, Y_test = train_test_split(X,y, test_size = 0.33, random_state = 42) "
      ],
      "execution_count": 8,
      "outputs": []
    },
    {
      "cell_type": "code",
      "metadata": {
        "colab": {
          "base_uri": "https://localhost:8080/"
        },
        "id": "ORsNIF9V4x-7",
        "outputId": "713d3e22-26f9-4b55-d3fa-74a96e37209b"
      },
      "source": [
        "#Model Creation\n",
        "batch_size = 32\n",
        "#Function call to Sequential Neural Network\n",
        "model = createmodel()\n",
        "model.fit(X_train, Y_train, epochs = 1, batch_size=batch_size, verbose = 2)\n",
        "# Model evaluation \n",
        "score,acc = model.evaluate(X_test,Y_test,verbose=2,batch_size=batch_size)\n"
      ],
      "execution_count": 9,
      "outputs": [
        {
          "output_type": "stream",
          "text": [
            "117/117 - 85s - loss: 0.1647 - accuracy: 0.9496\n",
            "58/58 - 5s - loss: 0.0707 - accuracy: 0.9804\n"
          ],
          "name": "stdout"
        }
      ]
    },
    {
      "cell_type": "code",
      "metadata": {
        "colab": {
          "base_uri": "https://localhost:8080/"
        },
        "id": "A7NBMk3g5HBa",
        "outputId": "36887ccf-339e-4dc0-ea59-75ac8e47166a"
      },
      "source": [
        "# Score and Accuracy Values\n",
        "print(model.metrics_names)\n",
        "print(\"loss\")\n",
        "print(score)\n",
        "print(\"accuracy\")\n",
        "print(acc)\n"
      ],
      "execution_count": 18,
      "outputs": [
        {
          "output_type": "stream",
          "text": [
            "['loss', 'accuracy']\n",
            "loss\n",
            "0.07068127393722534\n",
            "accuracy\n",
            "0.980424165725708\n"
          ],
          "name": "stdout"
        }
      ]
    }
  ]
}